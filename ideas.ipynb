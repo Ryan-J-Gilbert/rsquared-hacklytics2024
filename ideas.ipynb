{
 "cells": [
  {
   "cell_type": "code",
   "execution_count": null,
   "metadata": {},
   "outputs": [],
   "source": [
    "import numpy as np\n",
    "import pandas as pd\n",
    "import matplotlib.pyplot as plt\n",
    "\n",
    "# import yfinance\n",
    "import yfinance as yf\n",
    "\n",
    "# import library for plotting candlestick charts\n",
    "import mplfinance as mpf"
   ]
  },
  {
   "cell_type": "code",
   "execution_count": null,
   "metadata": {},
   "outputs": [],
   "source": [
    "equity1_df = yf.download('KO', interval='1h', period='1y')\n",
    "equity1_df"
   ]
  },
  {
   "cell_type": "code",
   "execution_count": null,
   "metadata": {},
   "outputs": [],
   "source": [
    "# get coke data, pepsi data hourly data\n",
    "coke_df = yf.download('KO', start='2022-05-01', end='2023-12-31', interval='1h')\n",
    "pepsi_df = yf.download('PEP', start='2022-05-01', end='2023-12-31', interval='1h')\n",
    "# coke_df = yf.download('KO', start='2008-01-01', end='2023-12-31')\n",
    "# pepsi_df = yf.download('PEP', start='2008-01-01', end='2023-12-31')\n",
    "# print(coke_df.head(10))\n",
    "\n",
    "# plot the adjusted close price data\n",
    "plt.figure(figsize=(12, 8))\n",
    "plt.plot(coke_df['Adj Close'], label='Coke')\n",
    "plt.plot(pepsi_df['Adj Close'], label='Pepsi')\n",
    "plt.title('Coke vs Pepsi Adj Close Price History')\n",
    "# plt.savefig('Coke_vs_Pepsi_Adj_Close_Price_History.png')\n",
    "# plt.show()\n"
   ]
  },
  {
   "cell_type": "code",
   "execution_count": null,
   "metadata": {},
   "outputs": [],
   "source": [
    "# plot candlestick chart\n",
    "mpf.plot(coke_df[-300:], type='candle', volume=True, style='yahoo', title='Coke Candlestick Chart')\n"
   ]
  },
  {
   "cell_type": "code",
   "execution_count": null,
   "metadata": {},
   "outputs": [],
   "source": [
    "# join the dfs with prefix coke, pepsi\n",
    "coke_df_new = coke_df.add_prefix('Coke_')\n",
    "pepsi_df_new = pepsi_df.add_prefix('Pepsi_')\n",
    "\n",
    "# join the dataframes\n",
    "df = coke_df_new.join(pepsi_df_new, how='outer')\n",
    "\n",
    "# add a column for the differnece in close\n",
    "df['Difference'] = df['Coke_Close'] - df['Pepsi_Close']\n",
    "\n",
    "# plot difference with matplotlib\n",
    "df['Difference'].plot(figsize=(12, 8), title='Coke vs Pepsi Close Price Difference')\n",
    "plt.show()"
   ]
  },
  {
   "cell_type": "code",
   "execution_count": null,
   "metadata": {},
   "outputs": [],
   "source": [
    "PERIOD = 100\n",
    "# plot the difference with a rolling window and the difference between the difference and moving average\n",
    "df[f'{PERIOD}_MA_Difference'] = df['Difference'].rolling(window=PERIOD).mean()\n",
    "df[f'{PERIOD}_MA_Difference_Difference'] = df['Difference'] - df[f'{PERIOD}_MA_Difference']\n",
    "# plot the difference difference\n",
    "df[f'{PERIOD}_MA_Difference_Difference'].plot(figsize=(12, 8), title=f'{PERIOD} Period MA Difference Difference')\n",
    "plt.axhline(0, color='red', linestyle='--')\n",
    "plt.show()"
   ]
  },
  {
   "cell_type": "code",
   "execution_count": null,
   "metadata": {},
   "outputs": [],
   "source": [
    "# add standard deviation bands to difference difference\n",
    "MULTIPLIER = 1.75\n",
    "STD_WINDOW_MULT = 3\n",
    "df['Upper_Band'] = df[f'{PERIOD}_MA_Difference_Difference'].rolling(window=PERIOD*STD_WINDOW_MULT).std() * MULTIPLIER\n",
    "df['Lower_Band'] = -df[f'{PERIOD}_MA_Difference_Difference'].rolling(window=PERIOD*STD_WINDOW_MULT).std() * MULTIPLIER\n",
    "# add marks for when the difference difference is outside the bands\n",
    "df['Outside_Upper'] = df['Difference'] > df['Upper_Band']\n",
    "df['Outside_Lower'] = df['Difference'] < df['Lower_Band']\n",
    "# plot the difference difference and the bands and the marks\n",
    "df[f'{PERIOD}_MA_Difference_Difference'].plot(figsize=(12, 8), title=f'{PERIOD} Period MA Difference Difference')\n",
    "df['Upper_Band'].plot(label='Upper Band', color='g')\n",
    "df['Lower_Band'].plot(label='Lower Band', color='r')\n",
    "# plt.scatter(df.dropna().index, df['Difference'][df['Outside_Upper']], marker='^', color='g')\n",
    "# plt.scatter(df.dropna().index, df['Difference'][df['Outside_Lower']], marker='v', color='r')\n",
    "\n",
    "\n",
    "plt.axhline(0, color='red', linestyle='--')\n",
    "plt.show()\n"
   ]
  },
  {
   "cell_type": "code",
   "execution_count": null,
   "metadata": {},
   "outputs": [],
   "source": [
    "# iterate through df, short the spread when the difference difference is above the upper band and long the spread when the difference difference is below the lower band\n",
    "position = 0\n",
    "df['return'] = 0\n",
    "for i in range(len(df)):\n",
    "    if df[f'{PERIOD}_MA_Difference_Difference'].iloc[i] > df['Upper_Band'].iloc[i] and position != -1:\n",
    "        position = -1\n",
    "        entry = df['Difference'].iloc[i]\n",
    "        entry_cost = df['Coke_Close'].iloc[i] + df['Pepsi_Close'].iloc[i]\n",
    "        print(f'Shorting the spread at {entry}')\n",
    "    elif df[f'{PERIOD}_MA_Difference_Difference'].iloc[i] < df['Lower_Band'].iloc[i] and position != 1:\n",
    "        position = 1\n",
    "        entry = df['Difference'].iloc[i]\n",
    "        entry_cost = df['Pepsi_Close'].iloc[i] + df['Coke_Close'].iloc[i]\n",
    "        print(f'Longing the spread at {entry}')\n",
    "    # close if it passes 0\n",
    "    elif df[f'{PERIOD}_MA_Difference_Difference'].iloc[i] >= 0 and position == -1:\n",
    "        position = 0\n",
    "        exitv = df['Difference'].iloc[i]\n",
    "        df['return'].iloc[i] = (entry - exitv) / entry\n",
    "        # print(f'Closing the short at {exitv}')\n",
    "    elif df[f'{PERIOD}_MA_Difference_Difference'].iloc[i] > 0 and position == 1:\n",
    "        position = 0\n",
    "        exitv = df['Difference'].iloc[i]\n",
    "        df['return'].iloc[i] = (exitv - entry) / entry\n",
    "        # print(f'Closing the long at {exitv}')"
   ]
  },
  {
   "cell_type": "code",
   "execution_count": null,
   "metadata": {},
   "outputs": [],
   "source": [
    "# plot cumulative return\n",
    "plt.plot((1+df['return']).cumprod())"
   ]
  },
  {
   "cell_type": "code",
   "execution_count": null,
   "metadata": {},
   "outputs": [],
   "source": [
    "# rather than ma, try arima model\n",
    "# import library for arima model\n",
    "from statsmodels.tsa.arima_model import ARIMA\n",
    "from statsmodels.tsa.stattools import adfuller\n",
    "\n",
    "# check for stationarity\n",
    "result = adfuller(df['Difference'].dropna())\n",
    "print(f'ADF Statistic: {result[0]}')\n",
    "print(f'p-value: {result[1]}')\n",
    "print(f'Critical Values: {result[4]}')\n"
   ]
  }
 ],
 "metadata": {
  "kernelspec": {
   "display_name": "Python 3",
   "language": "python",
   "name": "python3"
  },
  "language_info": {
   "codemirror_mode": {
    "name": "ipython",
    "version": 3
   },
   "file_extension": ".py",
   "mimetype": "text/x-python",
   "name": "python",
   "nbconvert_exporter": "python",
   "pygments_lexer": "ipython3",
   "version": "3.9.13"
  }
 },
 "nbformat": 4,
 "nbformat_minor": 2
}
