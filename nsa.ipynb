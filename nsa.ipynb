{
 "cells": [
  {
   "cell_type": "code",
   "execution_count": null,
   "metadata": {},
   "outputs": [],
   "source": [
    "import pandas as pd\n",
    "import matplotlib.pyplot as plt"
   ]
  },
  {
   "cell_type": "markdown",
   "metadata": {},
   "source": [
    "### One a Day"
   ]
  },
  {
   "cell_type": "code",
   "execution_count": null,
   "metadata": {},
   "outputs": [],
   "source": [
    "# load data from csv\n",
    "df = pd.read_csv('nsadata/logins.txt', sep='\\t', header=None, names=['date', 'time', 'user', 'way'])\n",
    "df"
   ]
  },
  {
   "cell_type": "code",
   "execution_count": null,
   "metadata": {},
   "outputs": [],
   "source": [
    "# need to find entries that have multiple logins (WAY = \"IN\") in the same day\n",
    "# group by date and user, and count the number of logins greater than 1\n",
    "df_new = df[df['way'] == 'IN'].groupby(['date', 'user']).size().reset_index(name='count')\n",
    "\n",
    "# count greater than 1 and user stars with 'e.'\n",
    "df_new[(df_new['count'] > 1) & (df_new['user'].str.startswith('e.'))]['user'].iloc[0]"
   ]
  },
  {
   "cell_type": "markdown",
   "metadata": {},
   "source": [
    "### shifty"
   ]
  },
  {
   "cell_type": "code",
   "execution_count": null,
   "metadata": {},
   "outputs": [],
   "source": [
    "# People have normal schedules of when they like to show up to work.\n",
    "\n",
    "# Find an account that starts with j. of someone who sometimes works a different shift than their normal.\n",
    "\n",
    "# we can do this by grouping by user, getting median time, and then finding the user who has a different time\n",
    "# than the median\n",
    "# get second of day\n",
    "df['time_second'] = pd.to_datetime(df['time']).dt.hour * 3600 + pd.to_datetime(df['time']).dt.minute * 60 + pd.to_datetime(df['time']).dt.second\n",
    "df_new = df[df['way']=='IN'].groupby('user')['time_second'].apply(lambda x: x.median())#.reset_index(name='median_time')\n",
    "\n",
    "\n",
    "df_in = df[(df['way']=='IN') & (df['user'].str.startswith('j.'))] \n",
    "# add a column for distance from median and then sort and get highest\n",
    "df_in['time_diff'] = abs(df_in['time_second'] - df_in['time_second'].median())\n",
    "\n",
    "# calculate standard deviation for every user and then find the user with the highest standard deviation\n",
    "df_in.groupby('user')['time_second'].std().sort_values(ascending=False).index[0]\n",
    "# 'j.salano'"
   ]
  },
  {
   "cell_type": "code",
   "execution_count": null,
   "metadata": {},
   "outputs": [],
   "source": [
    "df[(df['user']=='j.salano' )& (df['way']=='IN')]['time_second'].hist(bins=30)"
   ]
  },
  {
   "cell_type": "markdown",
   "metadata": {},
   "source": [
    "### retirement home"
   ]
  },
  {
   "cell_type": "code",
   "execution_count": null,
   "metadata": {},
   "outputs": [],
   "source": [
    "# In this dataset, some people are hired and others retire. There is no log letting you know that someone has retired. However, retired people should never log in again.\n",
    "\n",
    "# Can you find the usernames that appear to log in after they've retired? Please input the username that starts with m..\n",
    "\n",
    "\n",
    "# group by user then compare the difference in day (retrieved from date) between the next row\n",
    "# then find row where the difference is greater than 100\n",
    "df_ms = df[df['user'].str.startswith('m.')]\n",
    "df_ms['date'] = pd.to_datetime(df_ms['date'])\n",
    "df_ms['date_diff'] = df_ms.groupby('user')['date'].diff().dt.days\n",
    "df_ms[df_ms['date_diff'] > 20]['user']"
   ]
  },
  {
   "cell_type": "markdown",
   "metadata": {},
   "source": [
    "### traffic jam"
   ]
  },
  {
   "cell_type": "code",
   "execution_count": null,
   "metadata": {},
   "outputs": [],
   "source": [
    "# In this dataset, traffic is simulated in 5 zones of the city: north, east, south, west, and central. User s.kinkel lives in the west zone.\n",
    "\n",
    "# **Which day of the year, in YYYY-MM-DD format, did the west zone have the worst traffic? **\n",
    "\n",
    "# Hint for the traffic jam: There's enough data for you to calculate the average start times of most employees. Then you can start to cluster the employees based on groups that exhibit delays on the same day (since traffic affects all the users in the same zone). From there, you can find the cluster that s.kinkel groups with and find out when that group had the worst traffic.\n",
    "\n",
    "\n",
    "# Note that s.kinkel may not have worked that day.\n",
    "# we can groupby date and find the count and then sort by count descending\n",
    "# first find dates when s.kinkel worked\n",
    "df_s = df[df['user'] == 's.kinkel']\n",
    "# then get all\n",
    "df_west = df[df['user'] != 's.kinkel']\n",
    "df_west['date'] = pd.to_datetime(df_west['date'])\n",
    "df_west.groupby('date').size().sort_values(ascending=False)"
   ]
  },
  {
   "cell_type": "code",
   "execution_count": null,
   "metadata": {},
   "outputs": [],
   "source": [
    "# histogram of time of day and log in counts\n",
    "df_in = df[df['way']=='IN']\n",
    "df_in['time'] = pd.to_datetime(df_in['time'])\n",
    "df_in['time_second'] = df_in['time'].dt.hour * 3600 + df_in['time'].dt.minute * 60 + df_in['time'].dt.second\n",
    "\n",
    "df_in['time_second'].hist(bins=80)"
   ]
  },
  {
   "cell_type": "markdown",
   "metadata": {},
   "source": [
    "### hire me"
   ]
  },
  {
   "cell_type": "code",
   "execution_count": null,
   "metadata": {},
   "outputs": [],
   "source": [
    "# How many people were hired throughout the year (the entire dataset)?\n",
    "\n",
    "# count unique users and subtract users whose first 'way' is 'OUT'\n",
    "unique = df['user'].nunique()\n",
    "\n",
    "# how many people's first traffic was 'OUT'\n",
    "# group by user and get first way\n",
    "df_first = df.groupby('user').first()\n",
    "logout = df_first[df_first['way'] == 'OUT'].shape[0]\n",
    "# logout\n",
    "unique-logout"
   ]
  },
  {
   "cell_type": "code",
   "execution_count": null,
   "metadata": {},
   "outputs": [],
   "source": [
    "df_first[df_first['way'] == 'OUT']"
   ]
  },
  {
   "cell_type": "markdown",
   "metadata": {},
   "source": [
    "### timecard"
   ]
  },
  {
   "cell_type": "code",
   "execution_count": null,
   "metadata": {},
   "outputs": [],
   "source": [
    "# There's one account that changed behavior in July in a way that is hard to detect. The employee is cheating the timecard system.\n",
    "\n",
    "# maybe they signed in around the same time with some variance which changed after July\n",
    "\n",
    "# split data into before and after July\n",
    "df['date'] = pd.to_datetime(df['date'])\n",
    "df['time'] = pd.to_datetime(df['time'])\n",
    "df['seconds'] = df['time'].dt.hour * 3600 + df['time'].dt.minute * 60 + df['time'].dt.second\n",
    "df_before = df[df['date'] < '2021-07-01']\n",
    "df_after = df[df['date'] >= '2021-07-01']\n",
    "\n",
    "# group by user and get std way=IN time\n",
    "df_before_in = df_before[df_before['way'] == 'IN'].groupby('user')['seconds'].std()\n",
    "df_after_in = df_after[df_after['way'] == 'IN'].groupby('user')['seconds'].std()\n",
    "\n",
    "# find user with the highest change in std after July\n",
    "(df_after_in).sort_values(ascending=True)"
   ]
  },
  {
   "cell_type": "code",
   "execution_count": null,
   "metadata": {},
   "outputs": [],
   "source": [
    "df_after[df_after['user'] == 'd.tye']"
   ]
  }
 ],
 "metadata": {
  "kernelspec": {
   "display_name": "Python 3",
   "language": "python",
   "name": "python3"
  },
  "language_info": {
   "codemirror_mode": {
    "name": "ipython",
    "version": 3
   },
   "file_extension": ".py",
   "mimetype": "text/x-python",
   "name": "python",
   "nbconvert_exporter": "python",
   "pygments_lexer": "ipython3",
   "version": "3.9.13"
  }
 },
 "nbformat": 4,
 "nbformat_minor": 2
}
